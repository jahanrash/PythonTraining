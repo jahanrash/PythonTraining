{
 "cells": [
  {
   "cell_type": "code",
   "execution_count": 2,
   "metadata": {},
   "outputs": [],
   "source": [
    "import nltk\n",
    "import random\n",
    "from nltk.corpus import movie_reviews"
   ]
  },
  {
   "cell_type": "code",
   "execution_count": 5,
   "metadata": {},
   "outputs": [],
   "source": [
    "documents = [ (list(movie_reviews.words(fileid)), category)\n",
    "             for category in movie_reviews.categories()\n",
    "             for fileid in movie_reviews.fileids(category)\n",
    "    \n",
    "]"
   ]
  },
  {
   "cell_type": "code",
   "execution_count": 4,
   "metadata": {},
   "outputs": [
    {
     "name": "stderr",
     "output_type": "stream",
     "text": [
      "[nltk_data] Downloading package movie_reviews to\n",
      "[nltk_data]     /Users/nrashid/nltk_data...\n",
      "[nltk_data]   Unzipping corpora/movie_reviews.zip.\n"
     ]
    },
    {
     "data": {
      "text/plain": [
       "True"
      ]
     },
     "execution_count": 4,
     "metadata": {},
     "output_type": "execute_result"
    }
   ],
   "source": [
    "import nltk\n",
    "nltk.download('movie_reviews')"
   ]
  },
  {
   "cell_type": "code",
   "execution_count": 6,
   "metadata": {},
   "outputs": [
    {
     "name": "stdout",
     "output_type": "stream",
     "text": [
      "(['for', 'this', 'review', 'and', 'more', ',', 'visit', 'clear', 'illusions', '(', 'www', '.', 'clearillusions', '.', 'com', ')', 'the', 'majority', 'of', 'scary', 'movies', 'signal', 'the', 'fact', 'that', 'a', 'character', 'is', 'about', 'to', 'meet', 'their', 'demise', 'with', 'cheesy', 'music', ',', 'worn', 'out', 'dialogue', 'such', 'as', '\"', 'i', \"'\", 'll', 'be', 'right', 'back', ',', '\"', 'or', 'simply', 'with', 'the', 'overall', 'tone', 'of', 'the', 'scene', '.', 'how', 'about', 'a', 'classic', 'john', 'denver', 'song', 'as', 'a', 'death', 'signal', 'for', 'a', 'change', '?', 'that', \"'\", 's', 'the', 'kind', 'of', 'bursting', 'originality', 'that', 'allows', '\"', 'final', 'destination', '\"', 'to', 'invade', 'the', 'viewer', \"'\", 's', 'mind', ',', 'even', 'days', 'after', 'seeing', 'it', ',', 'making', 'one', 'pause', 'before', 'ever', 'entering', 'a', 'dark', 'room', ',', 'taking', 'a', 'shower', ',', 'or', 'even', 'going', 'to', 'sleep', '.', 'the', 'unique', 'and', 'horrifying', 'thriller', 'is', 'the', 'best', 'thing', 'to', 'happen', 'to', 'the', 'slasher', 'genre', 'since', '1996', \"'\", 's', '\"', 'scream', '.', '\"', '\"', 'final', 'destination', ',', '\"', 'directed', 'by', 'james', 'wong', 'and', 'penned', 'by', 'jeffrey', 'riddick', ',', 'glen', 'morgan', ',', 'and', 'james', 'wong', ',', 'the', 'latter', 'two', 'being', 'writers', 'for', 'the', 't', '.', 'v', '.', 'series', '\"', 'the', 'x', '-', 'files', ',', '\"', 'is', 'a', 'movie', 'with', 'wonderful', 'ideas', ',', 'and', 'executes', 'them', 'effortlessly', '.', 'it', \"'\", 's', 'rare', 'a', 'film', 'of', 'this', 'nature', 'can', 'grab', 'an', 'audience', \"'\", 's', 'attention', 'these', 'days', ',', 'as', 'the', 'genre', 'has', 'seem', 'to', 'be', 'completely', 'worn', 'out', '?', '?', '`', 'but', '\"', 'final', 'destination', '\"', 'has', 'more', 'in', 'store', 'for', 'one', 'than', 'one', 'can', 'imagine', '.', 'unlike', '\"', 'halloween', '\"', \"'\", 's', 'michael', 'myers', 'or', '\"', 'nightmare', 'on', 'elm', 'street', '\"', \"'\", 's', 'freddy', 'kruger', ',', '\"', 'final', 'destination', '\"', \"'\", 's', 'killer', 'is', 'of', 'the', 'supernatural', ',', 'the', 'dark', 'one', 'himself', ',', 'death', '.', 'the', 'intriguing', 'premise', 'is', 'as', 'follows', ';', 'a', 'portion', 'of', 'a', 'senior', 'class', 'is', 'set', 'to', 'travel', 'by', 'air', 'to', 'paris', 'for', 'their', 'class', 'trip', '.', 'after', 'boarding', 'the', 'plane', ',', 'one', 'of', 'the', 'students', ',', 'alex', 'browning', '(', 'devon', 'sawa', ')', 'dreams', 'of', 'their', 'plane', 'exploding', 'into', 'flames', 'just', 'after', 'takeoff', ',', 'killing', 'everyone', 'on', 'board', '.', 'once', 'waking', 'up', ',', 'alex', 'gets', 'himself', 'and', 'six', 'others', 'off', 'of', 'that', 'plane', ',', 'all', 'of', 'who', 'seem', 'to', 'be', 'rather', 'confused', 'by', 'the', 'entire', 'happening', '.', 'shortly', 'after', 'their', 'departure', ',', 'the', 'plane', 'takes', 'off', ',', 'and', 'guess', 'what', ';', 'it', 'blows', 'up', 'in', 'middair', '.', 'now', ',', 'alex', ',', 'and', 'fellow', 'survivors', ',', 'who', 'consist', 'of', 'friend', 'clear', 'waters', '(', 'ali', 'larter', ')', ',', 'enemy', 'carter', '(', 'kerr', 'smith', ')', ',', 'carter', \"'\", 's', 'girlfriend', 'terry', '(', 'amanda', 'detmer', ')', ',', 'the', 'goofy', 'billy', '(', 'sean', 'william', 'scott', ')', 'and', 'his', 'brother', 'tod', '(', 'chad', 'donella', ')', ',', 'and', 'teacher', ',', 'ms', '.', 'valerie', 'lewton', '(', 'kristen', 'cloke', ')', ',', 'are', 'in', 'extreme', 'danger', ',', 'as', 'it', 'seems', 'they', 'have', 'cheated', 'death', 'by', 'getting', 'off', 'of', 'that', 'plane', ',', 'and', 'now', 'death', 'wants', 'them', '.', 'the', 'number', 'of', 'survivors', 'starts', 'to', 'peel', 'back', 'quite', 'quickly', 'as', 'death', 'goes', 'around', 'offing', 'those', 'who', 'got', 'off', 'the', 'plane', '?', '?', '`', 'but', 'who', 'is', 'next', ',', 'and', 'how', 'will', 'death', 'get', 'them', '?', '\"', 'final', 'destination', '\"', 'is', 'a', 'film', 'that', 'is', 'unbearably', 'suspenseful', ';', 'always', 'making', 'the', 'viewer', 'frantic', ',', 'as', 'death', 'will', 'strike', 'in', 'the', 'most', 'unlikely', 'of', 'times', '.', 'john', 'denver', \"'\", 's', '\"', 'rocky', 'mountain', 'high', '\"', 'being', 'played', 'pretty', 'much', 'warrants', 'another', 'death', '?', '?', '`', 'everyone', 'on', 'that', 'plane', 'learned', 'the', 'hard', 'way', '.', 'although', 'it', \"'\", 's', 'usually', 'given', 'whose', 'life', 'will', 'be', 'taken', 'next', ',', 'the', 'intensity', 'and', 'unpredictability', 'of', 'the', 'film', 'never', 'fades', ',', 'because', 'you', 'don', \"'\", 't', 'know', 'when', 'death', 'is', 'coming', '.', 'like', 'the', 'characters', 'in', 'the', 'movie', ',', 'i', 'was', 'constantly', 'nervous', 'and', 'shaky', 'during', '\"', 'final', 'destination', '\"', '.', 'the', 'slightest', 'noise', 'or', 'movement', 'nearby', 'would', 'send', 'me', 'a', 'mile', 'into', 'the', 'air', '?', '?', '`', 'and', 'yes', ',', 'the', 'film', 'is', 'that', 'intense', '.', 'the', 'cast', 'is', 'surprisingly', 'effective', 'and', 'up', 'to', 'par', ';', 'the', 'best', 'ensemble', 'in', 'this', 'genre', 'since', '\"', 'scream', '.', '\"', 'the', 'characters', 'have', 'multi', '-', 'dimensional', 'personalities', 'for', 'a', 'change', ',', 'and', 'for', 'the', 'most', 'part', ',', 'you', 'highly', 'sympathize', 'with', 'them', 'once', 'death', 'starts', 'to', 'come', 'their', 'way', '.', 'devon', 'sawa', 'and', 'ali', 'larter', 'are', 'the', 'main', 'focus', 'of', 'the', 'film', ',', 'and', 'both', 'actors', 'follow', 'up', 'their', 'well', 'written', 'characters', 'with', 'even', 'better', 'performances', ',', 'that', ',', 'like', 'the', '\"', 'scream', '\"', 'movies', 'did', 'for', 'their', 'cast', ',', 'will', 'launch', 'them', 'into', 'superstardom', '.', 'kerr', 'smith', 'and', 'kristen', 'cloke', 'are', 'also', 'impressive', ',', 'although', 'the', 'two', 'don', \"'\", 't', 'posses', 'as', 'much', 'screen', 'time', 'as', 'the', 'leads', '.', '\"', 'final', 'destination', '\"', 'is', 'one', 'exhilarating', ',', 'exciting', 'ride', '.', 'any', 'age', 'should', 'be', 'able', 'to', 'enjoy', 'the', 'complexity', 'and', 'eeriness', 'of', 'the', 'film', ',', 'and', 'should', 'find', 'an', 'edge', 'to', 'it', 'that', 'most', 'slasher', 'films', 'lack', '.', 'for', 'the', 'blood', 'loving', 'moviegoer', ',', '\"', 'destination', '\"', 'contains', 'buckets', 'of', 'blood', ',', 'guts', ',', 'and', 'all', 'that', 'good', 'stuff', '.', '\"', 'final', 'destination', '\"', 'is', 'a', 'film', 'that', 'is', 'destined', 'to', 'become', 'a', 'cult', 'classic', 'among', 'horror', 'fans', ',', 'and', 'a', 'sleeper', 'hit', 'at', 'the', 'box', 'office', '.', 'hands', 'down', 'to', 'the', 'first', 'film', 'in', 'years', 'that', 'has', 'actually', 'scared', 'me', '.', 'by', 'scare', ',', 'i', 'don', \"'\", 't', 'mean', 'making', 'me', 'jump', ',', 'or', 'making', 'me', 'wonder', 'if', 'i', \"'\", 'm', 'in', 'danger', ',', 'but', 'by', 'scare', 'i', 'mean', 'a', 'film', 'that', 'stays', 'locked', 'in', 'your', 'mind', ',', 'absorbing', 'you', ',', 'leaving', 'one', 'question', 'that', \"'\", 's', 'constantly', 'on', 'your', 'mind', ':', 'is', 'death', 'coming', 'for', 'me', '?', 'the', 'bottom', 'line', ':', 'make', '\"', 'final', 'destination', '\"', 'your', 'destination', '.'], 'pos')\n"
     ]
    }
   ],
   "source": [
    "random.shuffle(documents)\n",
    "print(documents[1])"
   ]
  },
  {
   "cell_type": "code",
   "execution_count": 8,
   "metadata": {},
   "outputs": [],
   "source": [
    "all_words = []\n",
    "for w in movie_reviews.words():\n",
    "    all_words.append(w.lower())"
   ]
  },
  {
   "cell_type": "code",
   "execution_count": 12,
   "metadata": {},
   "outputs": [
    {
     "name": "stdout",
     "output_type": "stream",
     "text": [
      "[(',', 77717), ('the', 76529), ('.', 65876), ('a', 38106), ('and', 35576), ('of', 34123), ('to', 31937), (\"'\", 30585), ('is', 25195), ('in', 21822), ('s', 18513), ('\"', 17612), ('it', 16107), ('that', 15924), ('-', 15595)]\n"
     ]
    }
   ],
   "source": [
    "all_words = nltk.FreqDist(all_words)\n",
    "print(all_words.most_common(15))"
   ]
  },
  {
   "cell_type": "code",
   "execution_count": 13,
   "metadata": {},
   "outputs": [
    {
     "name": "stdout",
     "output_type": "stream",
     "text": [
      "253\n"
     ]
    }
   ],
   "source": [
    "print(all_words['stupid'])"
   ]
  },
  {
   "cell_type": "code",
   "execution_count": null,
   "metadata": {},
   "outputs": [],
   "source": []
  }
 ],
 "metadata": {
  "kernelspec": {
   "display_name": "Python 3",
   "language": "python",
   "name": "python3"
  },
  "language_info": {
   "codemirror_mode": {
    "name": "ipython",
    "version": 3
   },
   "file_extension": ".py",
   "mimetype": "text/x-python",
   "name": "python",
   "nbconvert_exporter": "python",
   "pygments_lexer": "ipython3",
   "version": "3.6.8"
  }
 },
 "nbformat": 4,
 "nbformat_minor": 2
}
